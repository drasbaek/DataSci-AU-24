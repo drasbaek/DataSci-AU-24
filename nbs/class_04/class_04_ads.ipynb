{
 "cells": [
  {
   "cell_type": "markdown",
   "metadata": {},
   "source": [
    "# Class 4 - Bias-variance trade-off and Decision Trees\n",
    "Yesterday, we introduce the notions of bias and variance, which quantify two dimensions of error in predictive modeling. We saw that:\n",
    "- *Bias* is the distance between the average of predictions made by a given model when trained on different training sets and the predictions made by the true model;\n",
    "- *Variance* is the variance of predictions made by a given model when trained on different training sets.\n",
    "\n",
    "Importantly, bias and variance are modulated by the complexity or flexibility of a model in different ways. As complexity/flexibility increases, bias tends to decrease, while variance increases.\n",
    "\n",
    "This is why we talk about a _bias-variance trade-off_: ideally, we want to minimize both sources of prediction error, but in practice, modeling decisions that lead to lower bias will also lead to higher variance (and viceversa).\n",
    "What we want to do when designing our model is to hit the optimal balance between bias and variance.\n",
    "\n",
    "Alongside this, we introduced **decision trees** as an additional modeling algorithm for both regression and classification.\n",
    "Decision trees are implemented in `scikit-learn`. You can check out this link for a brush-up of what they are with some examples: https://scikit-learn.org/stable/modules/tree.html. \n",
    "Classes for regression (`DecisionTreeRegressor`) and classification (`DecisionTreeClassifier`) are documented respectively at: https://scikit-learn.org/stable/modules/generated/sklearn.tree.DecisionTreeClassifier.html and https://scikit-learn.org/stable/modules/generated/sklearn.tree.DecisionTreeRegressor.html. \n",
    "We have discussed hyperparameters of decision trees that influence its complexity and flexibility (e.g., tree depth, minimum number of total samples per leaf), and discussed why flexibility matters for learning good decision trees.\n",
    "\n",
    "In this exercise, we will take a break from our attempt to model bike data (fear not, we will resume next week and combine all we have learned so far with tree-based bagging and boosting methods, which we will introduce next week).\n",
    "Our goal for today is see some of the notions we have introduced theoretically during our lecture in action, to get a better grasp of these complex notions.\n",
    "We will look at a practical example of how bias and variance are modulated by model flexibility, using a linear model and decision trees as a test case."
   ]
  },
  {
   "cell_type": "markdown",
   "metadata": {},
   "source": [
    "### Today's plan\n",
    "**Step 1** - Generating Data:\n",
    "1. Generate 1000 data points from a uniform distribution, using `numpy.random.uniform` (https://numpy.org/doc/stable/reference/random/generated/numpy.random.uniform.html). Set the minimum value to -10 and the maximum value to 10. This will be your $x$.\n",
    "2. Generate polynomial terms for x, using `sklearn.preprocessing.PolynomialFeatures` (https://scikit-learn.org/stable/modules/generated/sklearn.preprocessing.PolynomialFeatures.html)\n",
    "3. Generate 4 random coefficients $\\beta_{i}$ from a uniform distribution (same parameters as above)\n",
    "4. Generate an outcome variable using the following equation: $y = \\beta_{0} + \\beta_{1} * x + \\beta_{2} * x^2 + \\beta_{3} * x^3 $. To do so, you might find \n",
    "5. Add some Gaussian noise to your $y$ using `np.random.normal` (set the `scale` parameter to 10 to make this noise \"visible\", see https://numpy.org/doc/stable/reference/random/generated/numpy.random.normal.html)\n",
    "6. Plot the relation between $x$ and $y$\n",
    "7. Finally, split your data into two halves, a training and a test set, using sklearn's `train_test_split`\n",
    "\n",
    "**Step 2** - Compute squared bias and variance of linear models with increasing complexity:\n",
    "1. Compute average **squared bias**, **variance**, and **MSE** for a linear model that only uses *x* as input feature.\n",
    "    - To do so, you need to create a loop where you take random samples of the training data (1/2 the size of the training set), say, 100 times. This process is called **bootstrapping**.\n",
    "    - For each random split of the data:\n",
    "        - You fit a `LinearRegression` estimator on the sampled data\n",
    "        - You predict $\\hat{y}$ for all test data points\n",
    "        - You compute the average **squared** bias across all data points in the test set. To do so you need to:\n",
    "            1. Compute the average prediction of your bootstrapped models for each data point\n",
    "            2. Compute the difference between these values and the predictions of the true model for each data point\n",
    "            3. Take the squared value of that\n",
    "            4. Average across all data points\n",
    "            5. NOTE: we look at the average *squared* bias, because the bias of a single data point encodes information about the *directionality* of the error. If we averaged those values, we will underestimate models' tendency to make systematic errors.\n",
    "        - You compute the average variance of the predictions of bootstrapped models across all data points in the test set\n",
    "        - You compute the average MSE of your method (computing the average of MSEs of each bootstrapped model)\n",
    "2. Now that you know how to compute this, scale this up. Fit linear regressions with input features that include increasingly high polynomial expansions of your feature set (first only $x, x^2$, then $x, x^2, x^3$ and all the way up to $x,...,x^{10}$)\n",
    "3. Make a plot where you show how bias, variance and MSE change as a function of model complexity (i.e., how many polynomials you include)\n",
    "4. Look at the patterns emerging from the plot and discuss them with your group: what do you notice?\n",
    "\n",
    "**Bonus tasks**:\n",
    "- We have talked about decision trees in the lecture. Can you do minimal changes to the code above, to look at how bias and variance change as a function of the expected depth of a tree, or additional parameters related to the complexity of a decision tree? Use `DecisionTreeRegressor` (https://scikit-learn.org/stable/modules/generated/sklearn.tree.DecisionTreeRegressor.html) as an extractor, and loop over multiple values of `max_depth` (e.g., ranging from 1 to 20)\n",
    "- How do your results change as you manipulate parameters such as the the true generative model (e.g., its complexity), the size of bootstrapped data samples, etc?\n"
   ]
  },
  {
   "cell_type": "markdown",
   "metadata": {},
   "source": [
    "### Solutions\n",
    "As usual, you will find a solution in `example.ipynb`"
   ]
  },
  {
   "cell_type": "markdown",
   "metadata": {},
   "source": [
    "Import Packages"
   ]
  },
  {
   "cell_type": "code",
   "execution_count": 69,
   "metadata": {},
   "outputs": [],
   "source": [
    "import numpy as np\n",
    "import sklearn\n",
    "from sklearn.preprocessing import PolynomialFeatures\n",
    "import matplotlib.pyplot as plt\n",
    "import seaborn as sns\n",
    "from sklearn.model_selection import train_test_split\n",
    "from sklearn.linear_model import LinearRegression"
   ]
  },
  {
   "cell_type": "markdown",
   "metadata": {},
   "source": [
    "### STEP 1: Generate Data"
   ]
  },
  {
   "cell_type": "code",
   "execution_count": 58,
   "metadata": {},
   "outputs": [
    {
     "name": "stdout",
     "output_type": "stream",
     "text": [
      "[[ 6.22773703]\n",
      " [ 3.53840263]\n",
      " [ 1.58816456]\n",
      " [-9.326696  ]\n",
      " [-7.74709226]\n",
      " [-0.15823663]\n",
      " [-9.8091234 ]\n",
      " [-4.65534819]\n",
      " [ 9.58451159]]\n"
     ]
    }
   ],
   "source": [
    "# generate 1000 points from uniform distribution\n",
    "np.random.seed(2802)\n",
    "x_single = np.random.uniform(low=-10, high=10, size=(1000,1))\n",
    "print(x_single[1:10])"
   ]
  },
  {
   "cell_type": "code",
   "execution_count": 59,
   "metadata": {},
   "outputs": [
    {
     "name": "stdout",
     "output_type": "stream",
     "text": [
      "[[   1.            6.63867006   44.07194011  292.57906916]\n",
      " [   1.            6.22773703   38.78470852  241.54096546]\n",
      " [   1.            3.53840263   12.52029314   44.30183814]\n",
      " ...\n",
      " [   1.            8.71611642   75.9706855   662.16933955]\n",
      " [   1.           -2.92365106    8.54773554  -24.99059611]\n",
      " [   1.           -8.98150882   80.6675007  -724.51586907]]\n"
     ]
    }
   ],
   "source": [
    "# create the polynomial features (degree 3 implies that we get both x^2 AND x^3)\n",
    "x = PolynomialFeatures(degree=3).fit_transform(x_single)\n",
    "print(x)"
   ]
  },
  {
   "cell_type": "code",
   "execution_count": 60,
   "metadata": {},
   "outputs": [
    {
     "name": "stdout",
     "output_type": "stream",
     "text": [
      "[6.63867006 6.22773703 3.53840263 1.58816456]\n"
     ]
    }
   ],
   "source": [
    "# generate random coefficients based on the number of columns in x\n",
    "np.random.seed(2802)\n",
    "betas = np.random.uniform(low=-10, high=10, size=(len(x[1])))\n",
    "print(betas)"
   ]
  },
  {
   "cell_type": "code",
   "execution_count": 61,
   "metadata": {},
   "outputs": [
    {
     "name": "stdout",
     "output_type": "stream",
     "text": [
      "[  566.26609414   143.33535853    31.81596545 -1032.13340254\n",
      "  -567.67632128     5.73551901 -1212.93512535  -105.90142429\n",
      "  1789.69271213]\n"
     ]
    }
   ],
   "source": [
    "# calculate y (w/o gaussian noise)\n",
    "clean_y = np.dot(x, betas)\n",
    "\n",
    "print(clean_y[1:10])"
   ]
  },
  {
   "cell_type": "code",
   "execution_count": 62,
   "metadata": {},
   "outputs": [
    {
     "name": "stdout",
     "output_type": "stream",
     "text": [
      "[  570.7388844    151.30561832    49.57356369 -1034.900141\n",
      "  -567.72095313     1.99790701 -1211.85188301  -106.68632797\n",
      "  1794.9153167 ]\n"
     ]
    }
   ],
   "source": [
    "# add gaussian noise\n",
    "np.random.seed(2802)\n",
    "noise = np.random.normal(loc=0, scale=10, size=len(clean_y))\n",
    "\n",
    "y = clean_y + noise\n",
    "print(y[1:10])"
   ]
  },
  {
   "cell_type": "code",
   "execution_count": 64,
   "metadata": {},
   "outputs": [
    {
     "data": {
      "image/png": "[encoded data removed]",
      "text/plain": [
       "<Figure size 640x480 with 1 Axes>"
      ]
     },
     "metadata": {},
     "output_type": "display_data"
    }
   ],
   "source": [
    "# plot the relation between x and y\n",
    "sns.scatterplot(x=x_single[:,0], y=y)\n",
    "plt.show()"
   ]
  },
  {
   "cell_type": "code",
   "execution_count": 71,
   "metadata": {},
   "outputs": [
    {
     "name": "stdout",
     "output_type": "stream",
     "text": [
      "(500,)\n"
     ]
    }
   ],
   "source": [
    "# train-test split \n",
    "X_train, X_test, y_train, y_test = train_test_split(x, y, train_size=0.5, random_state=2802)\n",
    "\n",
    "# get y_pred_true\n",
    "y_pred_true = np.dot(X_test, betas)\n",
    "print(y_pred_true.shape)"
   ]
  },
  {
   "cell_type": "markdown",
   "metadata": {},
   "source": [
    "### STEP 2: COMPUTE"
   ]
  },
  {
   "cell_type": "code",
   "execution_count": 168,
   "metadata": {},
   "outputs": [],
   "source": [
    "def bootstrap(X_train, y_train, X_test, y_pred_true, n_iterations=100, degree=1):\n",
    "    # Initialize list for predictions\n",
    "    y_preds = []\n",
    "\n",
    "    # Subset X_train and X_test to accommodate degree\n",
    "    X_train = X_train[:, :degree + 1]\n",
    "    X_test = X_test[:, :degree + 1]\n",
    "\n",
    "    # Loop for bootstrapping\n",
    "    for i in range(n_iterations):\n",
    "        # Select half the dataset for training\n",
    "        X_train_subset, _, y_train_subset, _ = train_test_split(X_train, y_train, train_size=0.5)\n",
    "\n",
    "        # Initialize linear regression model\n",
    "        model = LinearRegression()\n",
    "\n",
    "        # Fit the model\n",
    "        model.fit(X_train_subset, y_train_subset)\n",
    "\n",
    "        # Predict on test data\n",
    "        y_pred = model.predict(X_test)\n",
    "        \n",
    "        # Append prediction as a new column; reshape y_pred for correct orientation\n",
    "        y_preds.append(y_pred.reshape(-1, 1))\n",
    "\n",
    "    # Convert list of arrays to a 2D NumPy array with predictions as columns\n",
    "    y_preds = np.hstack(y_preds)\n",
    "\n",
    "    # calculate average predictions\n",
    "    y_average_preds = np.mean(y_preds, axis=1)\n",
    "\n",
    "    # calculate difference from y_pred_true\n",
    "    y_preds_diff = y_pred_true - y_average_preds\n",
    "\n",
    "    # take the square\n",
    "    y_preds_diff_squared = np.square(y_preds_diff)\n",
    "\n",
    "    # average across all data points\n",
    "    avg_sqrt_bias = int(np.mean(y_preds_diff_squared))\n",
    "\n",
    "    # get the average variance\n",
    "    avg_var = int(y_preds.var(axis=1).mean())\n",
    "\n",
    "    return avg_sqrt_bias, avg_var\n",
    "        "
   ]
  },
  {
   "cell_type": "code",
   "execution_count": 169,
   "metadata": {},
   "outputs": [],
   "source": [
    "avg_sqrt_bias, avg_var = bootstrap(X_train, y_train, X_test, y_pred_true, n_iterations=100, degree=0)"
   ]
  },
  {
   "cell_type": "code",
   "execution_count": 170,
   "metadata": {},
   "outputs": [
    {
     "data": {
      "text/plain": [
       "374556"
      ]
     },
     "execution_count": 170,
     "metadata": {},
     "output_type": "execute_result"
    }
   ],
   "source": [
    "avg_sqrt_bias"
   ]
  },
  {
   "cell_type": "code",
   "execution_count": 171,
   "metadata": {},
   "outputs": [
    {
     "data": {
      "text/plain": [
       "808"
      ]
     },
     "execution_count": 171,
     "metadata": {},
     "output_type": "execute_result"
    }
   ],
   "source": [
    "avg_var"
   ]
  }
 ],
 "metadata": {
  "kernelspec": {
   "display_name": "Python 3",
   "language": "python",
   "name": "python3"
  },
  "language_info": {
   "codemirror_mode": {
    "name": "ipython",
    "version": 3
   },
   "file_extension": ".py",
   "mimetype": "text/x-python",
   "name": "python",
   "nbconvert_exporter": "python",
   "pygments_lexer": "ipython3",
   "version": "3.10.12"
  }
 },
 "nbformat": 4,
 "nbformat_minor": 2
}
